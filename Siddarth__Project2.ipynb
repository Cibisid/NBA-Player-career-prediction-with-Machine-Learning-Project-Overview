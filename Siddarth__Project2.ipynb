{
  "nbformat": 4,
  "nbformat_minor": 0,
  "metadata": {
    "colab": {
      "provenance": []
    },
    "kernelspec": {
      "name": "python3",
      "display_name": "Python 3"
    },
    "language_info": {
      "name": "python"
    }
  },
  "cells": [
    {
      "cell_type": "code",
      "execution_count": 3,
      "metadata": {
        "id": "yPKLb9TtTgT5"
      },
      "outputs": [],
      "source": [
        "import pandas as pd\n",
        "\n",
        "# Load the dataset\n",
        "# If the file is in the same directory as your notebook, you can just use the filename\n",
        "file_path = \"nba.csv\"  # Or the correct path to your file\n",
        "\n",
        "# If the file is in a different directory, provide the full path.\n",
        "# For example, if it's in your 'Downloads' folder:\n",
        "# file_path = \"/home/your_username/Downloads/nba.csv\"  # Replace with your actual path\n",
        "\n",
        "try:\n",
        "    df = pd.read_csv(file_path)\n",
        "    # Display first few rows\n",
        "    df.head()\n",
        "except FileNotFoundError:\n",
        "    print(f\"Error: File not found at {file_path}. Please check the file path.\")"
      ]
    },
    {
      "cell_type": "code",
      "source": [
        "# Check for missing values\n",
        "print(df.isnull().sum())\n",
        "\n",
        "# Drop player name (text attribute, not useful for prediction)\n",
        "df = df.drop(columns=['Name'])\n",
        "\n",
        "# Convert target column to binary (if not already)\n",
        "df['TAR'] = df['TAR'].astype(int)\n",
        "\n",
        "# Handle missing values using mean imputation\n",
        "from sklearn.impute import SimpleImputer\n",
        "\n",
        "imputer = SimpleImputer(strategy='mean')\n",
        "df.iloc[:, :-1] = imputer.fit_transform(df.iloc[:, :-1])\n",
        "\n",
        "# Display dataset info after preprocessing\n",
        "df.info()\n"
      ],
      "metadata": {
        "colab": {
          "base_uri": "https://localhost:8080/"
        },
        "id": "bCQs2hgdThFL",
        "outputId": "8e32e549-0543-4a97-80df-7d0946bd7def"
      },
      "execution_count": 4,
      "outputs": [
        {
          "output_type": "stream",
          "name": "stdout",
          "text": [
            "Name     0\n",
            "GP       0\n",
            "MIN      0\n",
            "PPT      0\n",
            "FGM      0\n",
            "FGA      0\n",
            "FG%      0\n",
            "3PM      0\n",
            "3PA      0\n",
            "3P%     11\n",
            "FTM      0\n",
            "FTA      0\n",
            "FT%      0\n",
            "OREB     0\n",
            "DREB     0\n",
            "REB      0\n",
            "AST      0\n",
            "STL      0\n",
            "BLK      0\n",
            "TOV      0\n",
            "TAR      0\n",
            "dtype: int64\n",
            "<class 'pandas.core.frame.DataFrame'>\n",
            "RangeIndex: 1340 entries, 0 to 1339\n",
            "Data columns (total 20 columns):\n",
            " #   Column  Non-Null Count  Dtype  \n",
            "---  ------  --------------  -----  \n",
            " 0   GP      1340 non-null   int64  \n",
            " 1   MIN     1340 non-null   float64\n",
            " 2   PPT     1340 non-null   float64\n",
            " 3   FGM     1340 non-null   float64\n",
            " 4   FGA     1340 non-null   float64\n",
            " 5   FG%     1340 non-null   float64\n",
            " 6   3PM     1340 non-null   float64\n",
            " 7   3PA     1340 non-null   float64\n",
            " 8   3P%     1340 non-null   float64\n",
            " 9   FTM     1340 non-null   float64\n",
            " 10  FTA     1340 non-null   float64\n",
            " 11  FT%     1340 non-null   float64\n",
            " 12  OREB    1340 non-null   float64\n",
            " 13  DREB    1340 non-null   float64\n",
            " 14  REB     1340 non-null   float64\n",
            " 15  AST     1340 non-null   float64\n",
            " 16  STL     1340 non-null   float64\n",
            " 17  BLK     1340 non-null   float64\n",
            " 18  TOV     1340 non-null   float64\n",
            " 19  TAR     1340 non-null   int64  \n",
            "dtypes: float64(18), int64(2)\n",
            "memory usage: 209.5 KB\n"
          ]
        }
      ]
    },
    {
      "cell_type": "code",
      "source": [
        "from sklearn.preprocessing import StandardScaler\n",
        "\n",
        "X = df.drop(columns=['TAR'])\n",
        "y = df['TAR']\n",
        "\n",
        "# Standardize numerical features\n",
        "scaler = StandardScaler()\n",
        "X_scaled = scaler.fit_transform(X)  # Use this for KNN and ANN models\n"
      ],
      "metadata": {
        "id": "EaglV_yKTiBt"
      },
      "execution_count": 5,
      "outputs": []
    },
    {
      "cell_type": "code",
      "source": [
        "from sklearn.model_selection import train_test_split\n",
        "\n",
        "X_train, X_test, y_train, y_test = train_test_split(X_scaled, y, test_size=0.2, random_state=42)\n"
      ],
      "metadata": {
        "id": "j7k_EwDbTkOO"
      },
      "execution_count": 6,
      "outputs": []
    },
    {
      "cell_type": "code",
      "source": [
        "from sklearn.model_selection import cross_val_score\n",
        "from sklearn.neighbors import KNeighborsClassifier\n",
        "from sklearn.metrics import f1_score\n",
        "\n",
        "knn = KNeighborsClassifier(n_neighbors=5)\n",
        "\n",
        "# Perform 10-fold cross-validation\n",
        "cv_scores_knn = cross_val_score(knn, X_train, y_train, cv=10, scoring='f1')\n",
        "knn.fit(X_train, y_train)\n",
        "y_pred_knn = knn.predict(X_test)\n",
        "\n",
        "print(\"KNN 10-Fold CV Mean F1 Score:\", cv_scores_knn.mean())\n",
        "print(\"KNN Test F1 Score:\", f1_score(y_test, y_pred_knn))\n"
      ],
      "metadata": {
        "id": "KjtZC5IwTnqq",
        "colab": {
          "base_uri": "https://localhost:8080/"
        },
        "outputId": "6a462f7b-e9c0-46af-dac6-f4e16ecff580"
      },
      "execution_count": 7,
      "outputs": [
        {
          "output_type": "stream",
          "name": "stdout",
          "text": [
            "KNN 10-Fold CV Mean F1 Score: 0.714671636036298\n",
            "KNN Test F1 Score: 0.7597765363128491\n"
          ]
        }
      ]
    },
    {
      "cell_type": "code",
      "source": [
        "from sklearn.ensemble import RandomForestClassifier\n",
        "\n",
        "rf = RandomForestClassifier(n_estimators=100, random_state=42)\n",
        "\n",
        "# Perform 10-fold cross-validation\n",
        "cv_scores_rf = cross_val_score(rf, X_train, y_train, cv=10, scoring='f1')\n",
        "rf.fit(X_train, y_train)\n",
        "y_pred_rf = rf.predict(X_test)\n",
        "\n",
        "print(\"Random Forest 10-Fold CV Mean F1 Score:\", cv_scores_rf.mean())\n",
        "print(\"Random Forest Test F1 Score:\", f1_score(y_test, y_pred_rf))\n"
      ],
      "metadata": {
        "id": "kgXK3N9XTotQ",
        "colab": {
          "base_uri": "https://localhost:8080/"
        },
        "outputId": "8f8ac221-49cb-4366-d02f-8443c5684d4e"
      },
      "execution_count": 8,
      "outputs": [
        {
          "output_type": "stream",
          "name": "stdout",
          "text": [
            "Random Forest 10-Fold CV Mean F1 Score: 0.7456895318616505\n",
            "Random Forest Test F1 Score: 0.776536312849162\n"
          ]
        }
      ]
    },
    {
      "cell_type": "code",
      "source": [
        "from sklearn.linear_model import LogisticRegression\n",
        "\n",
        "penalties = [None, 'l1', 'l2', 'elasticnet']  # Change 'none' to None\n",
        "best_f1 = 0\n",
        "best_penalty = None\n",
        "\n",
        "for penalty in penalties:\n",
        "    if penalty == 'elasticnet':\n",
        "        solver = 'saga'  # Only saga solver supports elasticnet\n",
        "        l1_ratio = 0.5   # Default balance for elasticnet\n",
        "    else:\n",
        "        solver = 'liblinear' if penalty in ['l1', 'l2'] else 'lbfgs'\n",
        "        l1_ratio = None\n",
        "\n",
        "    log_reg = LogisticRegression(penalty=penalty, solver=solver, l1_ratio=l1_ratio, max_iter=500)\n",
        "    log_reg.fit(X_train, y_train)\n",
        "    y_pred_log = log_reg.predict(X_test)\n",
        "    f1 = f1_score(y_test, y_pred_log)\n",
        "\n",
        "    print(f\"Logistic Regression ({penalty}) F1 Score:\", f1)\n",
        "\n",
        "    if f1 > best_f1:\n",
        "        best_f1 = f1\n",
        "        best_penalty = penalty\n",
        "\n",
        "print(f\"Best Logistic Regression Regularization: {best_penalty} with F1 Score: {best_f1}\")\n"
      ],
      "metadata": {
        "id": "J7sbwLtYTpnQ",
        "colab": {
          "base_uri": "https://localhost:8080/"
        },
        "outputId": "23474fce-1164-4d6b-c9d3-c96d4c6789cb"
      },
      "execution_count": 9,
      "outputs": [
        {
          "output_type": "stream",
          "name": "stdout",
          "text": [
            "Logistic Regression (None) F1 Score: 0.8011049723756906\n",
            "Logistic Regression (l1) F1 Score: 0.8011049723756906\n",
            "Logistic Regression (l2) F1 Score: 0.8055555555555556\n",
            "Logistic Regression (elasticnet) F1 Score: 0.8011049723756906\n",
            "Best Logistic Regression Regularization: l2 with F1 Score: 0.8055555555555556\n"
          ]
        }
      ]
    },
    {
      "cell_type": "code",
      "source": [
        "from sklearn.neural_network import MLPClassifier\n",
        "from sklearn.model_selection import cross_val_score\n",
        "from sklearn.metrics import f1_score\n",
        "from sklearn.preprocessing import StandardScaler\n",
        "\n",
        "# Ensure data is scaled (MLP is sensitive to feature scaling!)\n",
        "scaler = StandardScaler()\n",
        "X_train_scaled = scaler.fit_transform(X_train)\n",
        "X_test_scaled = scaler.transform(X_test)\n",
        "\n",
        "# Initialize MLPClassifier with better convergence settings\n",
        "ann = MLPClassifier(hidden_layer_sizes=(64, 32),\n",
        "                    max_iter=2000,  # Increased for better convergence\n",
        "                    random_state=42,\n",
        "                    solver='adam',\n",
        "                    learning_rate_init=0.001,\n",
        "                    early_stopping=True)  # Stops early if no improvement\n",
        "\n",
        "# Perform 10-fold cross-validation (separate instance to avoid refitting issues)\n",
        "cv_scores_ann = cross_val_score(MLPClassifier(hidden_layer_sizes=(64, 32),\n",
        "                                              max_iter=2000,\n",
        "                                              random_state=42,\n",
        "                                              solver='adam',\n",
        "                                              learning_rate_init=0.001,\n",
        "                                              early_stopping=True),\n",
        "                                X_train_scaled, y_train, cv=10, scoring='f1')\n",
        "\n",
        "# Train final ANN model\n",
        "ann.fit(X_train_scaled, y_train)\n",
        "\n",
        "# Make predictions\n",
        "y_pred_ann = ann.predict(X_test_scaled)\n",
        "\n",
        "# Print results\n",
        "print(\"ANN 10-Fold CV Mean F1 Score:\", cv_scores_ann.mean())\n",
        "print(\"ANN Test F1 Score:\", f1_score(y_test, y_pred_ann))\n",
        "\n",
        "\n"
      ],
      "metadata": {
        "id": "6dq1-O2NTqkk",
        "colab": {
          "base_uri": "https://localhost:8080/"
        },
        "outputId": "6899c149-6bdb-409c-932c-688abf94f070"
      },
      "execution_count": 10,
      "outputs": [
        {
          "output_type": "stream",
          "name": "stdout",
          "text": [
            "ANN 10-Fold CV Mean F1 Score: 0.7615956961919668\n",
            "ANN Test F1 Score: 0.7899159663865546\n"
          ]
        }
      ]
    },
    {
      "cell_type": "code",
      "source": [
        "from sklearn.model_selection import GridSearchCV\n",
        "\n",
        "param_grid_rf = {'n_estimators': [50, 100, 200]}\n",
        "grid_search_rf = GridSearchCV(RandomForestClassifier(random_state=42), param_grid_rf, cv=5, scoring='f1')\n",
        "grid_search_rf.fit(X_train, y_train)\n",
        "\n",
        "print(\"Best Random Forest Parameters:\", grid_search_rf.best_params_)\n",
        "print(\"Best Random Forest F1 Score:\", grid_search_rf.best_score_)\n"
      ],
      "metadata": {
        "id": "bjXtglDUTr07",
        "colab": {
          "base_uri": "https://localhost:8080/"
        },
        "outputId": "934bbb9d-dc86-43f3-eb04-1132b036d9ea"
      },
      "execution_count": 11,
      "outputs": [
        {
          "output_type": "stream",
          "name": "stdout",
          "text": [
            "Best Random Forest Parameters: {'n_estimators': 200}\n",
            "Best Random Forest F1 Score: 0.7413334277876062\n"
          ]
        }
      ]
    },
    {
      "cell_type": "code",
      "source": [
        "import matplotlib.pyplot as plt\n",
        "\n",
        "models = ['KNN', 'Random Forest', 'Logistic Regression', 'ANN']\n",
        "f1_scores = [\n",
        "    f1_score(y_test, y_pred_knn),\n",
        "    f1_score(y_test, y_pred_rf),\n",
        "    best_f1,  # Best logistic regression result\n",
        "    f1_score(y_test, y_pred_ann)\n",
        "]\n",
        "\n",
        "plt.bar(models, f1_scores, color=['blue', 'green', 'red', 'purple'])\n",
        "plt.xlabel(\"Models\")\n",
        "plt.ylabel(\"F1 Score\")\n",
        "plt.title(\"Model Comparison\")\n",
        "plt.show()\n"
      ],
      "metadata": {
        "id": "gW4H8-ItTswz",
        "colab": {
          "base_uri": "https://localhost:8080/",
          "height": 472
        },
        "outputId": "25981482-4e92-4cf1-a06a-80caddf71654"
      },
      "execution_count": 12,
      "outputs": [
        {
          "output_type": "display_data",
          "data": {
            "text/plain": [
              "<Figure size 640x480 with 1 Axes>"
            ],
            "image/png": "[encoded data removed]"
          },
          "metadata": {}
        }
      ]
    }
  ]
}